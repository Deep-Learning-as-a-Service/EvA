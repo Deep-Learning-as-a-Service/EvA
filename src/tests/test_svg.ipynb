{
 "cells": [
  {
   "cell_type": "code",
   "execution_count": 23,
   "metadata": {},
   "outputs": [
    {
     "data": {
      "text/html": [
       "<img src=\"data:image/svg+xml;base64,PD94bWwgdmVyc2lvbj0iMS4wIiBlbmNvZGluZz0iVVRGLTgiPz4KPHN2ZyB4bWxucz0iaHR0cDovL3d3dy53My5vcmcvMjAwMC9zdmciIHhtbG5zOnhsaW5rPSJodHRwOi8vd3d3LnczLm9yZy8xOTk5L3hsaW5rIgogICAgIHdpZHRoPSI0MDAiIGhlaWdodD0iMjAwIiB2aWV3Qm94PSItMTAwLjAgLTUwLjAgMjAwIDEwMCI+CjxkZWZzPgo8L2RlZnM+CjxjaXJjbGUgY3g9Ii0xMDAiIGN5PSI1MCIgcj0iMyIgZmlsbD0icmVkIiBzdHJva2Utd2lkdGg9IjEiIHN0cm9rZT0iYmxhY2siIC8+CjxjaXJjbGUgY3g9Ii0xMDAiIGN5PSItNTAiIHI9IjMiIGZpbGw9InJlZCIgc3Ryb2tlLXdpZHRoPSIxIiBzdHJva2U9ImJsYWNrIiAvPgo8Y2lyY2xlIGN4PSIxMDAiIGN5PSI1MCIgcj0iMyIgZmlsbD0icmVkIiBzdHJva2Utd2lkdGg9IjEiIHN0cm9rZT0iYmxhY2siIC8+CjxjaXJjbGUgY3g9IjEwMCIgY3k9Ii01MCIgcj0iMyIgZmlsbD0icmVkIiBzdHJva2Utd2lkdGg9IjEiIHN0cm9rZT0iYmxhY2siIC8+CjxjaXJjbGUgY3g9IjAiIGN5PSIwIiByPSIzIiBmaWxsPSJyZWQiIHN0cm9rZS13aWR0aD0iMSIgc3Ryb2tlPSJibGFjayIgLz4KPC9zdmc+\">"
      ],
      "text/plain": [
       "<drawSvg.drawing.Drawing at 0x7f880f99cdd8>"
      ]
     },
     "execution_count": 23,
     "metadata": {},
     "output_type": "execute_result"
    }
   ],
   "source": [
    "import drawSvg as draw\n",
    "\n",
    "d = draw.Drawing(200, 100, origin='center', displayInline=False)\n",
    "\n",
    "# Own Experiment\n",
    "# x, y, radius, fill, stroke_width, stroke\n",
    "d.append(draw.Circle(-100, -50, 3, fill='red', stroke_width=1, stroke='black')) # bottom left\n",
    "d.append(draw.Circle(-100, 50, 3, fill='red', stroke_width=1, stroke='black')) # bottom right\n",
    "d.append(draw.Circle(100, -50, 3, fill='red', stroke_width=1, stroke='black')) # top left\n",
    "d.append(draw.Circle(100, 50, 3, fill='red', stroke_width=1, stroke='black')) # top right\n",
    "d.append(draw.Circle(0, 0, 3, fill='red', stroke_width=1, stroke='black')) # middle\n",
    "\n",
    "d.setPixelScale(2)  # Set number of pixels per geometry unit\n",
    "#d.setRenderSize(400,200)  # Alternative to setPixelScale\n",
    "# d.saveSvg('example.svg')\n",
    "# d.savePng('example.png')\n",
    "\n",
    "# Display in Jupyter notebook\n",
    "d.rasterize()  # Display as PNG\n",
    "d  # Display as SVG"
   ]
  }
 ],
 "metadata": {
  "interpreter": {
   "hash": "cac81bee5002d53b9951b98885daf4662be76e86442f9d7ec50feb55de3ace56"
  },
  "kernelspec": {
   "display_name": "Python 3.6.13 ('mycondaenv')",
   "language": "python",
   "name": "python3"
  },
  "language_info": {
   "codemirror_mode": {
    "name": "ipython",
    "version": 3
   },
   "file_extension": ".py",
   "mimetype": "text/x-python",
   "name": "python",
   "nbconvert_exporter": "python",
   "pygments_lexer": "ipython3",
   "version": "3.6.13"
  },
  "orig_nbformat": 4
 },
 "nbformat": 4,
 "nbformat_minor": 2
}
