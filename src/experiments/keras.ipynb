{
 "cells": [
  {
   "cell_type": "code",
   "execution_count": 6,
   "id": "050275b8-2728-4115-8975-61a9dadf99a2",
   "metadata": {},
   "outputs": [],
   "source": [
    "import numpy as np\n",
    "from tensorflow import keras"
   ]
  },
  {
   "cell_type": "markdown",
   "id": "4948133c-13f6-4c14-a860-02c49be1b33a",
   "metadata": {},
   "source": [
    "## Conv1D"
   ]
  },
  {
   "cell_type": "code",
   "execution_count": 12,
   "id": "0ebc2375-260a-4daa-a172-d95dd8db3981",
   "metadata": {},
   "outputs": [
    {
     "data": {
      "text/plain": [
       "array([[[0],\n",
       "        [0],\n",
       "        [0],\n",
       "        [1],\n",
       "        [1],\n",
       "        [0],\n",
       "        [0],\n",
       "        [0]]])"
      ]
     },
     "execution_count": 12,
     "metadata": {},
     "output_type": "execute_result"
    }
   ],
   "source": [
    "# define input data\n",
    "data = np.asarray([0, 0, 0, 1, 1, 0, 0, 0])\n",
    "data = data.reshape(1, 8, 1)\n",
    "# n_sample x sample_len x n_features\n",
    "data"
   ]
  },
  {
   "cell_type": "code",
   "execution_count": 13,
   "id": "ab5421e4-990d-4ce1-a90e-21fd01e0b79c",
   "metadata": {},
   "outputs": [],
   "source": [
    "# create model\n",
    "model = keras.models.Sequential()\n",
    "model.add(keras.layers.Conv1D(filters=1, kernel_size=3, input_shape=(8, 1)))"
   ]
  },
  {
   "cell_type": "markdown",
   "id": "cbebffb3-f048-4a27-ad30-8cb23b25dbb0",
   "metadata": {},
   "source": [
    "- filters: Integer, the dimensionality of the output space (i.e. the number of output filters in the convolution). (could be 64, lol)\n",
    "- kernel_size: An integer or tuple/list of a single integer, specifying the length of the 1D convolution window. (here one feature on a time axis vertical applied 1D Filter)"
   ]
  },
  {
   "cell_type": "markdown",
   "id": "894d99ab-a3ef-4a4d-8e65-56c00e1cf092",
   "metadata": {},
   "source": [
    "### Kernel\n",
    "The weights must be specified in a three-dimensional structure, in terms of rows, columns, and channels. The filter has a single row, three columns, and one channel.\n",
    "- same structure as input data"
   ]
  },
  {
   "cell_type": "code",
   "execution_count": 14,
   "id": "98029a20-3193-471e-8e65-0dc9965cd57a",
   "metadata": {},
   "outputs": [
    {
     "data": {
      "text/plain": [
       "[array([[[-0.10491657]],\n",
       " \n",
       "        [[-0.5013337 ]],\n",
       " \n",
       "        [[ 0.01941633]]], dtype=float32),\n",
       " array([0.], dtype=float32)]"
      ]
     },
     "execution_count": 14,
     "metadata": {},
     "output_type": "execute_result"
    }
   ],
   "source": [
    "model.get_weights()"
   ]
  },
  {
   "cell_type": "code",
   "execution_count": 15,
   "id": "2fd4aadb-4844-45e4-a0c8-41d02466aac1",
   "metadata": {},
   "outputs": [
    {
     "data": {
      "text/plain": [
       "[array([[[0.]],\n",
       " \n",
       "        [[1.]],\n",
       " \n",
       "        [[0.]]], dtype=float32),\n",
       " array([0.], dtype=float32)]"
      ]
     },
     "execution_count": 15,
     "metadata": {},
     "output_type": "execute_result"
    }
   ],
   "source": [
    "# define a vertical line detector\n",
    "# its a [0, 1, 0] kernel!\n",
    "weights = [np.asarray([[[0]],[[1]],[[0]]]), np.asarray([0.0])]\n",
    "# store the weights in the model\n",
    "model.set_weights(weights)\n",
    "model.get_weights()"
   ]
  },
  {
   "cell_type": "markdown",
   "id": "cd727319-57f1-4685-a0e8-2e64dd3ca76f",
   "metadata": {},
   "source": [
    "### Apply"
   ]
  },
  {
   "cell_type": "code",
   "execution_count": 17,
   "id": "b555d1e4-8df4-44d8-8822-012c12782683",
   "metadata": {},
   "outputs": [
    {
     "data": {
      "text/plain": [
       "array([[[0.],\n",
       "        [0.],\n",
       "        [1.],\n",
       "        [1.],\n",
       "        [0.],\n",
       "        [0.]]], dtype=float32)"
      ]
     },
     "execution_count": 17,
     "metadata": {},
     "output_type": "execute_result"
    }
   ],
   "source": [
    "# apply filter to input data\n",
    "yhat = model.predict(data)\n",
    "yhat"
   ]
  },
  {
   "cell_type": "markdown",
   "id": "4ff4a78c-0a4e-4520-bc27-fe3bf5551ee2",
   "metadata": {},
   "source": [
    "this is the result of going one step at a time \n",
    "- always multiplying\n",
    "```\n",
    "[0, 0, 0, 1, 1, 0, 0, 0]\n",
    "[0, 1, 0] = 0\n",
    "   [0, 1, 0] = 0\n",
    "      [0, 1, 0] = 1\n",
    "````\n",
    " "
   ]
  },
  {
   "cell_type": "code",
   "execution_count": 20,
   "id": "6bf6982b-cbca-456e-b309-5224ea89d596",
   "metadata": {},
   "outputs": [
    {
     "data": {
      "text/plain": [
       "1"
      ]
     },
     "execution_count": 20,
     "metadata": {},
     "output_type": "execute_result"
    }
   ],
   "source": [
    "np.asarray([0, 1, 0]).dot(np.asarray([0, 1, 1]))"
   ]
  },
  {
   "cell_type": "markdown",
   "id": "fbe90f7d-e010-4e4f-b4cb-7fe674821447",
   "metadata": {},
   "source": [
    "# Conv2D"
   ]
  },
  {
   "cell_type": "code",
   "execution_count": 24,
   "id": "bec12120-4667-4569-96b3-5e175dcbaec9",
   "metadata": {},
   "outputs": [
    {
     "name": "stdout",
     "output_type": "stream",
     "text": [
      "[array([[[[0.]],\n",
      "\n",
      "        [[1.]],\n",
      "\n",
      "        [[0.]]],\n",
      "\n",
      "\n",
      "       [[[0.]],\n",
      "\n",
      "        [[1.]],\n",
      "\n",
      "        [[0.]]],\n",
      "\n",
      "\n",
      "       [[[0.]],\n",
      "\n",
      "        [[1.]],\n",
      "\n",
      "        [[0.]]]], dtype=float32), array([0.], dtype=float32)]\n"
     ]
    }
   ],
   "source": [
    "# define input data\n",
    "data = [[0, 0, 0, 1, 1, 0, 0, 0],\n",
    "\t\t[0, 0, 0, 1, 1, 0, 0, 0],\n",
    "\t\t[0, 0, 0, 1, 1, 0, 0, 0],\n",
    "\t\t[0, 0, 0, 1, 1, 0, 0, 0],\n",
    "\t\t[0, 0, 0, 1, 1, 0, 0, 0],\n",
    "\t\t[0, 0, 0, 1, 1, 0, 0, 0],\n",
    "\t\t[0, 0, 0, 1, 1, 0, 0, 0],\n",
    "\t\t[0, 0, 0, 1, 1, 0, 0, 0]]\n",
    "data = np.asarray(data)\n",
    "data = data.reshape(1, 8, 8, 1)\n",
    "\n",
    "# create model\n",
    "model = keras.models.Sequential()\n",
    "model.add(keras.layers.Conv2D(filters=1, kernel_size=(3,3), input_shape=(8, 8, 1)))\n",
    "\n",
    "# define a vertical line detector\n",
    "detector = [[[[0]],[[1]],[[0]]],\n",
    "            [[[0]],[[1]],[[0]]],\n",
    "            [[[0]],[[1]],[[0]]]]\n",
    "weights = [np.asarray(detector), np.asarray([0.0])]\n",
    "# for every any application of the filter we will add the bias!\n",
    "\n",
    "# store the weights in the model\n",
    "model.set_weights(weights)\n",
    "# confirm they were stored\n",
    "print(model.get_weights())"
   ]
  },
  {
   "cell_type": "code",
   "execution_count": 25,
   "id": "18a6d497-0286-4cfe-8115-34ffb605e4ef",
   "metadata": {},
   "outputs": [
    {
     "data": {
      "text/plain": [
       "array([[[[0.],\n",
       "         [0.],\n",
       "         [3.],\n",
       "         [3.],\n",
       "         [0.],\n",
       "         [0.]],\n",
       "\n",
       "        [[0.],\n",
       "         [0.],\n",
       "         [3.],\n",
       "         [3.],\n",
       "         [0.],\n",
       "         [0.]],\n",
       "\n",
       "        [[0.],\n",
       "         [0.],\n",
       "         [3.],\n",
       "         [3.],\n",
       "         [0.],\n",
       "         [0.]],\n",
       "\n",
       "        [[0.],\n",
       "         [0.],\n",
       "         [3.],\n",
       "         [3.],\n",
       "         [0.],\n",
       "         [0.]],\n",
       "\n",
       "        [[0.],\n",
       "         [0.],\n",
       "         [3.],\n",
       "         [3.],\n",
       "         [0.],\n",
       "         [0.]],\n",
       "\n",
       "        [[0.],\n",
       "         [0.],\n",
       "         [3.],\n",
       "         [3.],\n",
       "         [0.],\n",
       "         [0.]]]], dtype=float32)"
      ]
     },
     "execution_count": 25,
     "metadata": {},
     "output_type": "execute_result"
    }
   ],
   "source": [
    "# apply filter to input data\n",
    "yhat = model.predict(data)\n",
    "yhat"
   ]
  },
  {
   "cell_type": "code",
   "execution_count": 26,
   "id": "be2ef822-ddb3-4ae4-b3e0-ae3a8c845486",
   "metadata": {},
   "outputs": [
    {
     "name": "stdout",
     "output_type": "stream",
     "text": [
      "[0.0, 0.0, 3.0, 3.0, 0.0, 0.0]\n",
      "[0.0, 0.0, 3.0, 3.0, 0.0, 0.0]\n",
      "[0.0, 0.0, 3.0, 3.0, 0.0, 0.0]\n",
      "[0.0, 0.0, 3.0, 3.0, 0.0, 0.0]\n",
      "[0.0, 0.0, 3.0, 3.0, 0.0, 0.0]\n",
      "[0.0, 0.0, 3.0, 3.0, 0.0, 0.0]\n"
     ]
    }
   ],
   "source": [
    "for r in range(yhat.shape[1]):\n",
    "\t# print each column in the row\n",
    "\tprint([yhat[0,r,c,0] for c in range(yhat.shape[2])])"
   ]
  },
  {
   "cell_type": "code",
   "execution_count": null,
   "id": "05966bd9-2f2a-42ce-b0a6-15b05e18a168",
   "metadata": {},
   "outputs": [],
   "source": []
  }
 ],
 "metadata": {
  "kernelspec": {
   "display_name": "Python 3",
   "language": "python",
   "name": "python3"
  },
  "language_info": {
   "codemirror_mode": {
    "name": "ipython",
    "version": 3
   },
   "file_extension": ".py",
   "mimetype": "text/x-python",
   "name": "python",
   "nbconvert_exporter": "python",
   "pygments_lexer": "ipython3",
   "version": "3.6.13"
  }
 },
 "nbformat": 4,
 "nbformat_minor": 5
}
