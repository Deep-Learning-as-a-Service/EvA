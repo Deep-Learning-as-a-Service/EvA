{
 "cells": [
  {
   "cell_type": "markdown",
   "id": "fbe90f7d-e010-4e4f-b4cb-7fe674821447",
   "metadata": {},
   "source": [
    "# Conv2D"
   ]
  },
  {
   "cell_type": "code",
   "execution_count": 11,
   "id": "bec12120-4667-4569-96b3-5e175dcbaec9",
   "metadata": {},
   "outputs": [
    {
     "data": {
      "text/plain": [
       "array([[[[ 1],\n",
       "         [ 2],\n",
       "         [ 3],\n",
       "         [ 4]],\n",
       "\n",
       "        [[ 5],\n",
       "         [ 6],\n",
       "         [ 7],\n",
       "         [ 8]],\n",
       "\n",
       "        [[ 9],\n",
       "         [10],\n",
       "         [11],\n",
       "         [12]]]])"
      ]
     },
     "execution_count": 11,
     "metadata": {},
     "output_type": "execute_result"
    }
   ],
   "source": [
    "import numpy as np\n",
    "from tensorflow import keras\n",
    "\n",
    "# define input data\n",
    "# data random array (3, 4)\n",
    "data = [[1, 2, 3, 4], \n",
    "\t\t[5, 6, 7, 8], \n",
    "\t\t[9, 10, 11, 12]]\n",
    "\n",
    "data = np.array(data)\n",
    "data = data.reshape(1, 3, 4, 1)\n",
    "data"
   ]
  },
  {
   "cell_type": "code",
   "execution_count": 6,
   "id": "84a87c37",
   "metadata": {},
   "outputs": [
    {
     "name": "stderr",
     "output_type": "stream",
     "text": [
      "/Users/valentin/opt/anaconda3/envs/mycondaenv/lib/python3.6/site-packages/ipykernel_launcher.py:8: VisibleDeprecationWarning: Creating an ndarray from ragged nested sequences (which is a list-or-tuple of lists-or-tuples-or ndarrays with different lengths or shapes) is deprecated. If you meant to do this, you must specify 'dtype=object' when creating the ndarray\n",
      "  \n"
     ]
    },
    {
     "data": {
      "text/plain": [
       "(2,)"
      ]
     },
     "execution_count": 6,
     "metadata": {},
     "output_type": "execute_result"
    }
   ],
   "source": [
    "# Shapes\n",
    "detector = [[[[0.5]]],\n",
    "            [[[0.5]]]]\n",
    "np.array(detector).shape\n",
    "\n",
    "\n",
    "detector = [[0.5, 1],\n",
    "            [0.5, 1]]\n",
    "np.array(detector).shape\n"
   ]
  },
  {
   "cell_type": "code",
   "execution_count": 7,
   "id": "0d3a138d",
   "metadata": {},
   "outputs": [
    {
     "name": "stdout",
     "output_type": "stream",
     "text": [
      "[array([[[[0.5]]],\n",
      "\n",
      "\n",
      "       [[[0.5]]]], dtype=float32), array([0.], dtype=float32)]\n"
     ]
    }
   ],
   "source": [
    "# SAMPLE ONE FILTER\n",
    "\n",
    "# create sample_model\n",
    "sample_model = keras.sample_models.Sequential()\n",
    "sample_model.add(keras.layers.Conv2D(filters=1, kernel_size=(2, 1), input_shape=(3, 4, 1)))\n",
    "\n",
    "# define a vertical line detector\n",
    "detector = [[[[0.5]]],\n",
    "            [[[0.5]]]] # 1 detector (2, 1, 1, 1) (time, features, channels, unknown)\n",
    "weights = [np.array(detector), np.array([0.0])]\n",
    "# for every any application of the filter we will add the bias!\n",
    "\n",
    "# store the weights in the sample_model\n",
    "sample_model.set_weights(weights)\n",
    "# confirm they were stored\n",
    "print(sample_model.get_weights())"
   ]
  },
  {
   "cell_type": "markdown",
   "id": "a6bf2ad7",
   "metadata": {},
   "source": [
    "# Example Pipeline"
   ]
  },
  {
   "cell_type": "code",
   "execution_count": 21,
   "id": "f4522769",
   "metadata": {},
   "outputs": [
    {
     "data": {
      "text/plain": [
       "array([[[[ 1],\n",
       "         [ 2],\n",
       "         [ 3],\n",
       "         [ 4]],\n",
       "\n",
       "        [[ 5],\n",
       "         [ 6],\n",
       "         [ 7],\n",
       "         [ 8]],\n",
       "\n",
       "        [[ 9],\n",
       "         [10],\n",
       "         [11],\n",
       "         [12]]]])"
      ]
     },
     "execution_count": 21,
     "metadata": {},
     "output_type": "execute_result"
    }
   ],
   "source": [
    "import numpy as np\n",
    "from tensorflow import keras\n",
    "\n",
    "# define input data\n",
    "# data random array (3, 4)\n",
    "data = [[1, 2, 3, 4], \n",
    "\t\t[5, 6, 7, 8], \n",
    "\t\t[9, 10, 11, 12]]\n",
    "\n",
    "data = np.array(data)\n",
    "data = data.reshape(1, 3, 4, 1)\n",
    "data"
   ]
  },
  {
   "cell_type": "code",
   "execution_count": 22,
   "id": "91c50542",
   "metadata": {},
   "outputs": [
    {
     "name": "stdout",
     "output_type": "stream",
     "text": [
      "(2, 1, 1, 3)\n",
      "[array([[[[0.5, 0. , 1. ]]],\n",
      "\n",
      "\n",
      "       [[[0.5, 1. , 1. ]]]], dtype=float32), array([0., 0., 0.], dtype=float32)]\n"
     ]
    }
   ],
   "source": [
    "# SAMPLE 3 FILTERS\n",
    "\n",
    "# create model_01\n",
    "model_01 = keras.models.Sequential()\n",
    "model_01.add(keras.layers.Conv2D(filters=3, kernel_size=(2, 1), input_shape=(3, 4, 1)))\n",
    "\n",
    "# define a vertical line detector\n",
    "detectors = [[[[0.5, 0, 1]]],\n",
    "            [[[0.5, 1, 1]]]] # 1 detector (2, 1, 1, 1) (time, features, channels, numbers of detectors)\n",
    "detectors = np.array(detectors)\n",
    "print(detectors.shape)\n",
    "\n",
    "# first filter averages values\n",
    "# second filter cuts first row\n",
    "# third filter averages values bigger\n",
    "\n",
    "weights = [detectors, np.array([0.0, 0.0, 0.0])] # also add 3 biases\n",
    "# for every any application of the filter we will add the bias!\n",
    "\n",
    "# store the weights in the model_01\n",
    "model_01.set_weights(weights)\n",
    "# confirm they were stored\n",
    "print(model_01.get_weights())"
   ]
  },
  {
   "cell_type": "code",
   "execution_count": 23,
   "id": "18a6d497-0286-4cfe-8115-34ffb605e4ef",
   "metadata": {},
   "outputs": [
    {
     "name": "stdout",
     "output_type": "stream",
     "text": [
      "(1, 2, 4, 3)\n"
     ]
    },
    {
     "data": {
      "text/plain": [
       "array([[[[ 3.,  5.,  6.],\n",
       "         [ 4.,  6.,  8.],\n",
       "         [ 5.,  7., 10.],\n",
       "         [ 6.,  8., 12.]],\n",
       "\n",
       "        [[ 7.,  9., 14.],\n",
       "         [ 8., 10., 16.],\n",
       "         [ 9., 11., 18.],\n",
       "         [10., 12., 20.]]]], dtype=float32)"
      ]
     },
     "execution_count": 23,
     "metadata": {},
     "output_type": "execute_result"
    }
   ],
   "source": [
    "\n",
    "\n",
    "# apply filter to input data\n",
    "yhat = model_01.predict(data)\n",
    "print(yhat.shape)\n",
    "data_after = yhat\n",
    "yhat"
   ]
  },
  {
   "cell_type": "code",
   "execution_count": 24,
   "id": "ae8cc922",
   "metadata": {},
   "outputs": [
    {
     "name": "stdout",
     "output_type": "stream",
     "text": [
      "[array([[[[0.        , 0.33333334],\n",
      "         [1.        , 0.33333334],\n",
      "         [0.        , 0.33333334]]],\n",
      "\n",
      "\n",
      "       [[[0.        , 0.33333334],\n",
      "         [1.        , 0.33333334],\n",
      "         [0.        , 0.33333334]]]], dtype=float32), array([0., 0.], dtype=float32)]\n"
     ]
    }
   ],
   "source": [
    "# SAMPLE 2 FILTERS\n",
    "\n",
    "# create model_01\n",
    "model_02 = keras.models.Sequential()\n",
    "model_02.add(keras.layers.Conv2D(filters=2, kernel_size=(2, 1), input_shape=(2, 4, 3))) # (2, 4, 3) (time, features, channels_ac_maps)\n",
    "\n",
    "filter_01 = [[[0, 1, 0]],\n",
    "            [[0, 1, 0]]] # (2, 1, 3) (filter_time_axis, filter_features_axis, filter_channels_activation_map_axis)\n",
    "\n",
    "filter_02 = [[[1/3, 1/3, 1/3]],\n",
    "            [[1/3, 1/3, 1/3]]]\n",
    "\n",
    "filters = np.array([np.array(filter_01), np.array(filter_02)]) # (2, 2, 4, 3) (number_of_filters, time, features, channels_activation_maps)\n",
    "detectors = filters.transpose(1, 2, 3, 0) # (2, 1, 3, 2) (time, features, channels_ac_map, number_of_filters)\n",
    "\n",
    "weights = [detectors, np.array([0.0, 0.0])] # also add 2 biases\n",
    "# for every any application of the filter we will add the bias!\n",
    "\n",
    "# store the weights in the model_02\n",
    "model_02.set_weights(weights)\n",
    "# confirm they were stored\n",
    "print(model_02.get_weights())\n",
    "\n"
   ]
  },
  {
   "cell_type": "code",
   "execution_count": 26,
   "id": "a3d1284c",
   "metadata": {},
   "outputs": [
    {
     "name": "stdout",
     "output_type": "stream",
     "text": [
      "(1, 1, 4, 2)\n"
     ]
    },
    {
     "data": {
      "text/plain": [
       "array([[[[14.      , 14.666667],\n",
       "         [16.      , 17.333334],\n",
       "         [18.      , 20.      ],\n",
       "         [20.      , 22.666668]]]], dtype=float32)"
      ]
     },
     "execution_count": 26,
     "metadata": {},
     "output_type": "execute_result"
    }
   ],
   "source": [
    "\n",
    "\n",
    "# apply filter to input data\n",
    "yhat = model_02.predict(data_after)\n",
    "print(yhat.shape) # (1, 1, 4, 2) (batch_size, time, features, number_of_filters_channes)\n",
    "yhat"
   ]
  }
 ],
 "metadata": {
  "kernelspec": {
   "display_name": "Python 3",
   "language": "python",
   "name": "python3"
  },
  "language_info": {
   "codemirror_mode": {
    "name": "ipython",
    "version": 3
   },
   "file_extension": ".py",
   "mimetype": "text/x-python",
   "name": "python",
   "nbconvert_exporter": "python",
   "pygments_lexer": "ipython3",
   "version": "3.6.13"
  }
 },
 "nbformat": 4,
 "nbformat_minor": 5
}
