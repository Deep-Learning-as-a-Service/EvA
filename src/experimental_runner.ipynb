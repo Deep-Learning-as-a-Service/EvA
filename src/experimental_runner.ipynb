{
 "cells": [
  {
   "cell_type": "markdown",
   "id": "28dc134e",
   "metadata": {},
   "source": [
    "# Put this directly in src\n",
    "- there will be the new path src/saved_experiments which you have to delete afterwards\n",
    "- you need to put a data.csv in the same directory"
   ]
  },
  {
   "cell_type": "code",
   "execution_count": 1,
   "id": "5ec5f538-674c-4c9e-94a2-5016b4713924",
   "metadata": {},
   "outputs": [
    {
     "name": "stdout",
     "output_type": "stream",
     "text": [
      "Will read dataset from data.csv\n",
      "Filled 13959 NA values in column IMU-BACK-accX\n",
      "Filled 13959 NA values in column IMU-BACK-accY\n",
      "Filled 13959 NA values in column IMU-BACK-accZ\n",
      "Filled 13959 NA values in column IMU-BACK-Quaternion1\n",
      "Filled 13959 NA values in column IMU-BACK-Quaternion2\n",
      "Filled 13959 NA values in column IMU-BACK-Quaternion3\n",
      "Filled 13959 NA values in column IMU-BACK-Quaternion4\n",
      "Filled 13959 NA values in column IMU-RLA-accX\n",
      "Filled 13959 NA values in column IMU-RLA-accY\n",
      "Filled 13959 NA values in column IMU-RLA-accZ\n",
      "Filled 13959 NA values in column IMU-RLA-Quaternion1\n",
      "Filled 13959 NA values in column IMU-RLA-Quaternion2\n",
      "Filled 13959 NA values in column IMU-RLA-Quaternion3\n",
      "Filled 13959 NA values in column IMU-RLA-Quaternion4\n",
      "Filled 13959 NA values in column IMU-LLA-accX\n",
      "Filled 13959 NA values in column IMU-LLA-accY\n",
      "Filled 13959 NA values in column IMU-LLA-accZ\n",
      "Filled 13959 NA values in column IMU-LLA-Quaternion1\n",
      "Filled 13959 NA values in column IMU-LLA-Quaternion2\n",
      "Filled 13959 NA values in column IMU-LLA-Quaternion3\n",
      "Filled 13959 NA values in column IMU-LLA-Quaternion4\n",
      "Filled 3485 NA values in column IMU-L-SHOE-EuX\n",
      "Filled 3485 NA values in column IMU-L-SHOE-EuY\n",
      "Filled 3485 NA values in column IMU-L-SHOE-EuZ\n",
      "Filled 3485 NA values in column IMU-L-SHOE-Nav_Ax\n",
      "Filled 3485 NA values in column IMU-L-SHOE-Nav_Ay\n",
      "Filled 3485 NA values in column IMU-L-SHOE-Nav_Az\n",
      "Filled 3485 NA values in column IMU-L-SHOE-Body_Ax\n",
      "Filled 3485 NA values in column IMU-L-SHOE-Body_Ay\n",
      "Filled 3485 NA values in column IMU-L-SHOE-Body_Az\n",
      "Filled 3485 NA values in column IMU-L-SHOE-AngVelBodyFrameX\n",
      "Filled 3485 NA values in column IMU-L-SHOE-AngVelBodyFrameY\n",
      "Filled 3485 NA values in column IMU-L-SHOE-AngVelBodyFrameZ\n",
      "Filled 3485 NA values in column IMU-L-SHOE-AngVelNavFrameX\n",
      "Filled 3485 NA values in column IMU-L-SHOE-AngVelNavFrameY\n",
      "Filled 3485 NA values in column IMU-L-SHOE-AngVelNavFrameZ\n",
      "Filled 3485 NA values in column IMU-R-SHOE-EuX\n",
      "Filled 3485 NA values in column IMU-R-SHOE-EuY\n",
      "Filled 3485 NA values in column IMU-R-SHOE-EuZ\n",
      "Filled 3485 NA values in column IMU-R-SHOE-Nav_Ax\n",
      "Filled 3485 NA values in column IMU-R-SHOE-Nav_Ay\n",
      "Filled 3485 NA values in column IMU-R-SHOE-Nav_Az\n",
      "Filled 3485 NA values in column IMU-R-SHOE-Body_Ax\n",
      "Filled 3485 NA values in column IMU-R-SHOE-Body_Ay\n",
      "Filled 3485 NA values in column IMU-R-SHOE-Body_Az\n",
      "Filled 3485 NA values in column IMU-R-SHOE-AngVelBodyFrameX\n",
      "Filled 3485 NA values in column IMU-R-SHOE-AngVelBodyFrameY\n",
      "Filled 3485 NA values in column IMU-R-SHOE-AngVelBodyFrameZ\n",
      "Filled 3485 NA values in column IMU-R-SHOE-AngVelNavFrameX\n",
      "Filled 3485 NA values in column IMU-R-SHOE-AngVelNavFrameY\n",
      "Filled 3485 NA values in column IMU-R-SHOE-AngVelNavFrameZ\n",
      "convert to Recording objects...\n",
      "number of NaN before interpolation 397689\n",
      "number of NaN after interpolation 0\n",
      "\n",
      "===> WARNING: the window_size is big with the used windowize algorithm (Jens) you have much data loss!!! (each activity can only be a multiple of the half the window_size, with overlapping a half of a window is cutted)\n",
      "\n",
      "=> jens_windowize_monitoring (total recording time)\n",
      "\tbefore: 4h 20m\n",
      "\tafter: 4h 18m\n",
      "n_total_timesteps: 469663\n",
      "n_wasted_timesteps: 4543\n",
      "windowizing in progress ....\n",
      "windowizing done\n",
      "\n",
      "===> WARNING: the window_size is big with the used windowize algorithm (Jens) you have much data loss!!! (each activity can only be a multiple of the half the window_size, with overlapping a half of a window is cutted)\n",
      "\n",
      "=> jens_windowize_monitoring (total recording time)\n",
      "\tbefore: 1h 37m\n",
      "\tafter: 1h 35m\n",
      "n_total_timesteps: 174953\n",
      "n_wasted_timesteps: 2423\n",
      "windowizing in progress ....\n",
      "windowizing done\n"
     ]
    }
   ],
   "source": [
    "\"\"\"\n",
    "keras exp\n",
    "\"\"\"\n",
    "\n",
    "%load_ext autoreload\n",
    "%autoreload 2\n",
    "\n",
    "\n",
    "import os\n",
    "import random\n",
    "import numpy as np\n",
    "import pandas as pd\n",
    "from datetime import datetime\n",
    "from loader.load_dataset import load_dataset\n",
    "from loader.Preprocessor import Preprocessor\n",
    "import utils.settings as settings\n",
    "from utils.array_operations import split_list_by_percentage\n",
    "\n",
    "from utils.folder_operations import new_saved_experiment_folder\n",
    "from evaluation.conf_matrix import create_conf_matrix\n",
    "from evaluation.text_metrics import create_text_metrics\n",
    "from evaluation.metrics import accuracy, f1_score\n",
    "from utils.Windowizer import Windowizer\n",
    "from sklearn.model_selection import KFold\n",
    "from utils.Converter import Converter\n",
    "\n",
    "from models.JensModel import JensModel\n",
    "from models.MultilaneConv import MultilaneConv\n",
    "from models.BestPerformerConv import BestPerformerConv\n",
    "from models.OldLSTM import OldLSTM\n",
    "from models.MultilaneConvLSTM import MultilaneConvLSTM\n",
    "\n",
    "\n",
    "settings.init()\n",
    "\n",
    "# Lib -----------------------------------------------------------\n",
    "leave_recording_out_split = lambda test_percentage: lambda recordings: split_list_by_percentage(list_to_split=recordings, percentage_to_split=test_percentage)\n",
    "# leave_recording_out_split(test_percentage=0.3)(recordings)\n",
    "def leave_person_out_split_idx(recordings, test_person_idx):\n",
    "    subset_from_condition = lambda condition, recordings: [recording for recording in recordings if condition(recording)] \n",
    "    recordings_train = subset_from_condition(lambda recording: recording.subject != test_person_idx, recordings)\n",
    "    recordings_test = subset_from_condition(lambda recording: recording.subject == test_person_idx, recordings)\n",
    "    return recordings_train, recordings_test\n",
    "leave_person_out_split = lambda test_person_idx: lambda recordings: leave_person_out_split_idx(recordings=recordings, test_person_idx=test_person_idx)\n",
    "# leave_person_out_split(test_person_idx=2)(recordings) # 1-4, TODO: could be random\n",
    "\n",
    "\n",
    "# Config --------------------------------------------------------------------------------------------------------------\n",
    "window_size = 30*3\n",
    "n_classes = 6\n",
    "\n",
    "data_path = 'data.csv' # os.path.join(settings.opportunity_dataset_csv_path, 'data.csv')\n",
    "load_recordings = lambda: load_dataset(data_path, \n",
    "    label_column_name='ACTIVITY_IDX', \n",
    "    recording_idx_name='RECORDING_IDX', \n",
    "    column_names_to_ignore=['SUBJECT_IDX', 'MILLISECONDS']\n",
    ")\n",
    "\n",
    "preprocess = lambda recordings: Preprocessor().jens_preprocess_with_normalize(recordings)\n",
    "windowize = lambda recordings: Windowizer(window_size=window_size).jens_windowize(recordings)\n",
    "convert = lambda windows: Converter(n_classes=n_classes).sonar_convert(windows)\n",
    "flatten = lambda tuple_list: [item for sublist in tuple_list for item in sublist]\n",
    "test_train_split = lambda recordings: leave_recording_out_split(test_percentage=0.3)(recordings)\n",
    "\n",
    "\n",
    "# Load data\n",
    "recordings = load_recordings()\n",
    "\n",
    "random.seed(72727277235074) # 1678978086101\n",
    "random.shuffle(recordings)\n",
    "\n",
    "# Preprocessing\n",
    "recordings = preprocess(recordings)\n",
    "\n",
    "# Test Train Split\n",
    "recordings_train, recordings_test = test_train_split(recordings)\n",
    "\n",
    "# Windowize\n",
    "windows_train, windows_test = windowize(recordings_train), windowize(recordings_test)\n",
    "\n",
    "# Convert\n",
    "X_train, y_train, X_test, y_test = tuple(flatten(map(convert, [windows_train, windows_test])))"
   ]
  },
  {
   "cell_type": "code",
   "execution_count": 30,
   "id": "dea9325d",
   "metadata": {},
   "outputs": [
    {
     "name": "stdout",
     "output_type": "stream",
     "text": [
      "The autoreload extension is already loaded. To reload it, use:\n",
      "  %reload_ext autoreload\n",
      "Model: \"model_17\"\n",
      "_________________________________________________________________\n",
      "Layer (type)                 Output Shape              Param #   \n",
      "=================================================================\n",
      "input_29 (InputLayer)        [(None, 90, 51)]          0         \n",
      "_________________________________________________________________\n",
      "lstm_30 (LSTM)               (None, 90, 32)            10752     \n",
      "_________________________________________________________________\n",
      "reshape_43 (Reshape)         (None, 90, 32, 1)         0         \n",
      "_________________________________________________________________\n",
      "conv1d_7 (Conv1D)            (None, 90, 6, 64)         384       \n",
      "_________________________________________________________________\n",
      "reshape_44 (Reshape)         (None, 90, 384)           0         \n",
      "_________________________________________________________________\n",
      "lstm_31 (LSTM)               (None, 90, 32)            53376     \n",
      "_________________________________________________________________\n",
      "dense_21 (Dense)             (None, 90, 400)           13200     \n",
      "_________________________________________________________________\n",
      "dropout_1 (Dropout)          (None, 90, 400)           0         \n",
      "_________________________________________________________________\n",
      "reshape_45 (Reshape)         (None, 90, 400, 1)        0         \n",
      "_________________________________________________________________\n",
      "conv1d_8 (Conv1D)            (None, 90, 80, 64)        384       \n",
      "_________________________________________________________________\n",
      "flatten_16 (Flatten)         (None, 460800)            0         \n",
      "_________________________________________________________________\n",
      "dense_22 (Dense)             (None, 6)                 2764806   \n",
      "=================================================================\n",
      "Total params: 2,842,902\n",
      "Trainable params: 2,842,902\n",
      "Non-trainable params: 0\n",
      "_________________________________________________________________\n"
     ]
    },
    {
     "data": {
      "text/html": [
       "Finishing last run (ID:mgx7b1nr) before initializing another..."
      ],
      "text/plain": [
       "<IPython.core.display.HTML object>"
      ]
     },
     "metadata": {},
     "output_type": "display_data"
    },
    {
     "data": {
      "text/html": [
       "Waiting for W&B process to finish... <strong style=\"color:green\">(success).</strong>"
      ],
      "text/plain": [
       "<IPython.core.display.HTML object>"
      ]
     },
     "metadata": {},
     "output_type": "display_data"
    },
    {
     "data": {
      "text/html": [
       "<style>\n",
       "    table.wandb td:nth-child(1) { padding: 0 10px; text-align: right }\n",
       "    .wandb-row { display: flex; flex-direction: row; flex-wrap: wrap; width: 100% }\n",
       "    .wandb-col { display: flex; flex-direction: column; flex-basis: 100%; flex: 1; padding: 10px; }\n",
       "    </style>\n",
       "<div class=\"wandb-row\"><div class=\"wandb-col\"><h3>Run history:</h3><br/><table class=\"wandb\"><tr><td>accuracy</td><td>▁▅▇▇█</td></tr><tr><td>epoch</td><td>▁▃▅▆█</td></tr><tr><td>loss</td><td>█▄▂▂▁</td></tr><tr><td>val_accuracy</td><td>▄▅▆▁█</td></tr><tr><td>val_loss</td><td>▃▄▁█▃</td></tr></table><br/></div><div class=\"wandb-col\"><h3>Run summary:</h3><br/><table class=\"wandb\"><tr><td>accuracy</td><td>0.70917</td></tr><tr><td>best_epoch</td><td>2</td></tr><tr><td>best_val_loss</td><td>1.42628</td></tr><tr><td>epoch</td><td>4</td></tr><tr><td>loss</td><td>0.75673</td></tr><tr><td>val_accuracy</td><td>0.49068</td></tr><tr><td>val_loss</td><td>1.5416</td></tr></table><br/></div></div>"
      ],
      "text/plain": [
       "<IPython.core.display.HTML object>"
      ]
     },
     "metadata": {},
     "output_type": "display_data"
    },
    {
     "data": {
      "text/html": [
       "Synced <strong style=\"color:#cdcd00\">deep-conv-lstm-22-05-05_16-31-59_769809</strong>: <a href=\"https://wandb.ai/valentindoering/all_experiments_project/runs/mgx7b1nr\" target=\"_blank\">https://wandb.ai/valentindoering/all_experiments_project/runs/mgx7b1nr</a><br/>Synced 6 W&B file(s), 1 media file(s), 0 artifact file(s) and 1 other file(s)"
      ],
      "text/plain": [
       "<IPython.core.display.HTML object>"
      ]
     },
     "metadata": {},
     "output_type": "display_data"
    },
    {
     "data": {
      "text/html": [
       "Find logs at: <code>./wandb/run-20220505_163200-mgx7b1nr/logs</code>"
      ],
      "text/plain": [
       "<IPython.core.display.HTML object>"
      ]
     },
     "metadata": {},
     "output_type": "display_data"
    },
    {
     "data": {
      "text/html": [
       "Successfully finished last run (ID:mgx7b1nr). Initializing new run:<br/>"
      ],
      "text/plain": [
       "<IPython.core.display.HTML object>"
      ]
     },
     "metadata": {},
     "output_type": "display_data"
    },
    {
     "data": {
      "text/html": [
       "wandb version 0.12.16 is available!  To upgrade, please run:\n",
       " $ pip install wandb --upgrade"
      ],
      "text/plain": [
       "<IPython.core.display.HTML object>"
      ]
     },
     "metadata": {},
     "output_type": "display_data"
    },
    {
     "data": {
      "text/html": [
       "Tracking run with wandb version 0.12.15"
      ],
      "text/plain": [
       "<IPython.core.display.HTML object>"
      ]
     },
     "metadata": {},
     "output_type": "display_data"
    },
    {
     "data": {
      "text/html": [
       "Run data is saved locally in <code>/Users/valentin/github/EvA/src/wandb/run-20220505_163642-1ar8v2ke</code>"
      ],
      "text/plain": [
       "<IPython.core.display.HTML object>"
      ]
     },
     "metadata": {},
     "output_type": "display_data"
    },
    {
     "data": {
      "text/html": [
       "Syncing run <strong><a href=\"https://wandb.ai/valentindoering/all_experiments_project/runs/1ar8v2ke\" target=\"_blank\">deep-conv-lstm-22-05-05_16-36-41_687719</a></strong> to <a href=\"https://wandb.ai/valentindoering/all_experiments_project\" target=\"_blank\">Weights & Biases</a> (<a href=\"https://wandb.me/run\" target=\"_blank\">docs</a>)<br/>"
      ],
      "text/plain": [
       "<IPython.core.display.HTML object>"
      ]
     },
     "metadata": {},
     "output_type": "display_data"
    },
    {
     "name": "stdout",
     "output_type": "stream",
     "text": [
      "Epoch 1/5\n",
      "255/255 [==============================] - 50s 185ms/step - loss: 1.3659 - accuracy: 0.4354 - val_loss: 1.5800 - val_accuracy: 0.2915\n",
      "Epoch 2/5\n",
      "255/255 [==============================] - 47s 185ms/step - loss: 1.0784 - accuracy: 0.5839 - val_loss: 1.4612 - val_accuracy: 0.4028\n",
      "Epoch 3/5\n",
      "255/255 [==============================] - 46s 181ms/step - loss: 0.9214 - accuracy: 0.6457 - val_loss: 1.2564 - val_accuracy: 0.5132\n",
      "Epoch 4/5\n",
      "255/255 [==============================] - 48s 187ms/step - loss: 0.8468 - accuracy: 0.6754 - val_loss: 1.3398 - val_accuracy: 0.4863\n",
      "Epoch 5/5\n",
      "255/255 [==============================] - 45s 175ms/step - loss: 0.8246 - accuracy: 0.6834 - val_loss: 1.5141 - val_accuracy: 0.4289\n"
     ]
    },
    {
     "name": "stderr",
     "output_type": "stream",
     "text": [
      "/Users/valentin/github/EvA/src/evaluation/conf_matrix.py:52: UserWarning: Matplotlib is currently using module://ipykernel.pylab.backend_inline, which is a non-GUI backend, so cannot show the figure.\n",
      "  f3.show()\n"
     ]
    },
    {
     "data": {
      "image/png": "[encoded data removed]",
      "text/plain": [
       "<Figure size 432x288 with 2 Axes>"
      ]
     },
     "metadata": {
      "needs_background": "light"
     },
     "output_type": "display_data"
    },
    {
     "name": "stderr",
     "output_type": "stream",
     "text": [
      "\u001b[34m\u001b[1mwandb\u001b[0m: Network error resolved after 0:00:08.706956, resuming normal operation.\n"
     ]
    }
   ],
   "source": [
    "%load_ext autoreload\n",
    "%autoreload 2\n",
    "\n",
    "from models.JensModel import JensModel\n",
    "from models.MultilaneConv import MultilaneConv\n",
    "from models.BestPerformerConv import BestPerformerConv\n",
    "from models.OldLSTM import OldLSTM\n",
    "from models.MultilaneConvLSTM import MultilaneConvLSTM\n",
    "from models.KirillAlexDeepConvLSTM import KirillAlexDeepConvLSTM\n",
    "from models.AlternativeDeepConvLSTM import AlternativeDeepConvLSTM\n",
    "from models.SenselessDeepConvLSTM import SenselessDeepConvLSTM\n",
    "from models.LeanderDeepConvLSTM import LeanderDeepConvLSTM\n",
    "\n",
    "experiment_name = \"deep-conv-lstm\"\n",
    "\n",
    "currentDT = datetime.now()\n",
    "currentDT_str = currentDT.strftime(\"%y-%m-%d_%H-%M-%S_%f\")\n",
    "experiment_name = experiment_name + \"-\" + currentDT_str\n",
    "\n",
    "# or JensModel\n",
    "model = SenselessDeepConvLSTM(\n",
    "    window_size=window_size, \n",
    "    n_features=recordings[0].sensor_frame.shape[1], \n",
    "    n_outputs=n_classes, \n",
    "    n_epochs=5, \n",
    "    learning_rate=0.001, \n",
    "    batch_size=32, \n",
    "    wandb_config={\n",
    "        'project': 'all_experiments_project',\n",
    "        'entity': 'valentindoering',\n",
    "        'name': experiment_name\n",
    "    }\n",
    ")\n",
    "# learning_rate=0.001\n",
    "# wandb_project=experiment_name\n",
    "model.fit(X_train, y_train)\n",
    "\n",
    "y_test_pred = model.predict(X_test)\n",
    "\n",
    "# Create Folder, save model export and evaluations there\n",
    "experiment_folder_path = new_saved_experiment_folder(experiment_name) # create folder to store results\n",
    "\n",
    "# model.export(experiment_folder_path) # opt: export model to folder\n",
    "create_conf_matrix(experiment_folder_path, y_test_pred, y_test)\n",
    "create_text_metrics(experiment_folder_path, y_test_pred, y_test, [accuracy]) # TODO: at the moment only with one function working! data gets changed (passed by reference) - refactor metric functions"
   ]
  }
 ],
 "metadata": {
  "kernelspec": {
   "display_name": "Python 3",
   "language": "python",
   "name": "python3"
  },
  "language_info": {
   "codemirror_mode": {
    "name": "ipython",
    "version": 3
   },
   "file_extension": ".py",
   "mimetype": "text/x-python",
   "name": "python",
   "nbconvert_exporter": "python",
   "pygments_lexer": "ipython3",
   "version": "3.6.13"
  }
 },
 "nbformat": 4,
 "nbformat_minor": 5
}
